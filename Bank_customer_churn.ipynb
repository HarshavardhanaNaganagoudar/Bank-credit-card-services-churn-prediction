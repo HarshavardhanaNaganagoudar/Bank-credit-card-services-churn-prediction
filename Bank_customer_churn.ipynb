{
 "cells": [
  {
   "cell_type": "markdown",
   "id": "77e935de-f251-47c8-b7e4-cd9c7ca30b7d",
   "metadata": {},
   "source": [
    "# Importing necessary packages"
   ]
  },
  {
   "cell_type": "code",
   "execution_count": 1,
   "id": "a99776c3-ee76-4ad0-92de-f037897a3480",
   "metadata": {},
   "outputs": [],
   "source": [
    "import numpy as np\n",
    "import pandas as pd\n",
    "import matplotlib.pyplot as plt\n",
    "import seaborn as sns\n",
    "from sklearn.model_selection import train_test_split\n",
    "from sklearn.preprocessing import StandardScaler\n",
    "from sklearn.model_selection import GridSearchCV\n",
    "from sklearn.metrics import plot_confusion_matrix,plot_roc_curve,accuracy_score,precision_score,recall_score,f1_score,classification_report\n",
    "from xgboost import XGBClassifier\n",
    "from xgboost import plot_importance"
   ]
  },
  {
   "cell_type": "markdown",
   "id": "ceb20908-c9c2-4caa-b554-f95d79ef696a",
   "metadata": {},
   "source": [
    "# Loading the dataset"
   ]
  },
  {
   "cell_type": "code",
   "execution_count": 2,
   "id": "d46db747-e667-41fd-99cb-7a09c49b84ea",
   "metadata": {},
   "outputs": [
    {
     "data": {
      "text/html": [
       "<div>\n",
       "<style scoped>\n",
       "    .dataframe tbody tr th:only-of-type {\n",
       "        vertical-align: middle;\n",
       "    }\n",
       "\n",
       "    .dataframe tbody tr th {\n",
       "        vertical-align: top;\n",
       "    }\n",
       "\n",
       "    .dataframe thead th {\n",
       "        text-align: right;\n",
       "    }\n",
       "</style>\n",
       "<table border=\"1\" class=\"dataframe\">\n",
       "  <thead>\n",
       "    <tr style=\"text-align: right;\">\n",
       "      <th></th>\n",
       "      <th>CLIENTNUM</th>\n",
       "      <th>Attrition_Flag</th>\n",
       "      <th>Customer_Age</th>\n",
       "      <th>Gender</th>\n",
       "      <th>Dependent_count</th>\n",
       "      <th>Education_Level</th>\n",
       "      <th>Marital_Status</th>\n",
       "      <th>Income_Category</th>\n",
       "      <th>Card_Category</th>\n",
       "      <th>Months_on_book</th>\n",
       "      <th>...</th>\n",
       "      <th>Credit_Limit</th>\n",
       "      <th>Total_Revolving_Bal</th>\n",
       "      <th>Avg_Open_To_Buy</th>\n",
       "      <th>Total_Amt_Chng_Q4_Q1</th>\n",
       "      <th>Total_Trans_Amt</th>\n",
       "      <th>Total_Trans_Ct</th>\n",
       "      <th>Total_Ct_Chng_Q4_Q1</th>\n",
       "      <th>Avg_Utilization_Ratio</th>\n",
       "      <th>Naive_Bayes_Classifier_Attrition_Flag_Card_Category_Contacts_Count_12_mon_Dependent_count_Education_Level_Months_Inactive_12_mon_1</th>\n",
       "      <th>Naive_Bayes_Classifier_Attrition_Flag_Card_Category_Contacts_Count_12_mon_Dependent_count_Education_Level_Months_Inactive_12_mon_2</th>\n",
       "    </tr>\n",
       "  </thead>\n",
       "  <tbody>\n",
       "    <tr>\n",
       "      <th>0</th>\n",
       "      <td>768805383</td>\n",
       "      <td>Existing Customer</td>\n",
       "      <td>45</td>\n",
       "      <td>M</td>\n",
       "      <td>3</td>\n",
       "      <td>High School</td>\n",
       "      <td>Married</td>\n",
       "      <td>$60K - $80K</td>\n",
       "      <td>Blue</td>\n",
       "      <td>39</td>\n",
       "      <td>...</td>\n",
       "      <td>12691.0</td>\n",
       "      <td>777</td>\n",
       "      <td>11914.0</td>\n",
       "      <td>1.335</td>\n",
       "      <td>1144</td>\n",
       "      <td>42</td>\n",
       "      <td>1.625</td>\n",
       "      <td>0.061</td>\n",
       "      <td>0.000093</td>\n",
       "      <td>0.99991</td>\n",
       "    </tr>\n",
       "    <tr>\n",
       "      <th>1</th>\n",
       "      <td>818770008</td>\n",
       "      <td>Existing Customer</td>\n",
       "      <td>49</td>\n",
       "      <td>F</td>\n",
       "      <td>5</td>\n",
       "      <td>Graduate</td>\n",
       "      <td>Single</td>\n",
       "      <td>Less than $40K</td>\n",
       "      <td>Blue</td>\n",
       "      <td>44</td>\n",
       "      <td>...</td>\n",
       "      <td>8256.0</td>\n",
       "      <td>864</td>\n",
       "      <td>7392.0</td>\n",
       "      <td>1.541</td>\n",
       "      <td>1291</td>\n",
       "      <td>33</td>\n",
       "      <td>3.714</td>\n",
       "      <td>0.105</td>\n",
       "      <td>0.000057</td>\n",
       "      <td>0.99994</td>\n",
       "    </tr>\n",
       "    <tr>\n",
       "      <th>2</th>\n",
       "      <td>713982108</td>\n",
       "      <td>Existing Customer</td>\n",
       "      <td>51</td>\n",
       "      <td>M</td>\n",
       "      <td>3</td>\n",
       "      <td>Graduate</td>\n",
       "      <td>Married</td>\n",
       "      <td>$80K - $120K</td>\n",
       "      <td>Blue</td>\n",
       "      <td>36</td>\n",
       "      <td>...</td>\n",
       "      <td>3418.0</td>\n",
       "      <td>0</td>\n",
       "      <td>3418.0</td>\n",
       "      <td>2.594</td>\n",
       "      <td>1887</td>\n",
       "      <td>20</td>\n",
       "      <td>2.333</td>\n",
       "      <td>0.000</td>\n",
       "      <td>0.000021</td>\n",
       "      <td>0.99998</td>\n",
       "    </tr>\n",
       "    <tr>\n",
       "      <th>3</th>\n",
       "      <td>769911858</td>\n",
       "      <td>Existing Customer</td>\n",
       "      <td>40</td>\n",
       "      <td>F</td>\n",
       "      <td>4</td>\n",
       "      <td>High School</td>\n",
       "      <td>Unknown</td>\n",
       "      <td>Less than $40K</td>\n",
       "      <td>Blue</td>\n",
       "      <td>34</td>\n",
       "      <td>...</td>\n",
       "      <td>3313.0</td>\n",
       "      <td>2517</td>\n",
       "      <td>796.0</td>\n",
       "      <td>1.405</td>\n",
       "      <td>1171</td>\n",
       "      <td>20</td>\n",
       "      <td>2.333</td>\n",
       "      <td>0.760</td>\n",
       "      <td>0.000134</td>\n",
       "      <td>0.99987</td>\n",
       "    </tr>\n",
       "    <tr>\n",
       "      <th>4</th>\n",
       "      <td>709106358</td>\n",
       "      <td>Existing Customer</td>\n",
       "      <td>40</td>\n",
       "      <td>M</td>\n",
       "      <td>3</td>\n",
       "      <td>Uneducated</td>\n",
       "      <td>Married</td>\n",
       "      <td>$60K - $80K</td>\n",
       "      <td>Blue</td>\n",
       "      <td>21</td>\n",
       "      <td>...</td>\n",
       "      <td>4716.0</td>\n",
       "      <td>0</td>\n",
       "      <td>4716.0</td>\n",
       "      <td>2.175</td>\n",
       "      <td>816</td>\n",
       "      <td>28</td>\n",
       "      <td>2.500</td>\n",
       "      <td>0.000</td>\n",
       "      <td>0.000022</td>\n",
       "      <td>0.99998</td>\n",
       "    </tr>\n",
       "  </tbody>\n",
       "</table>\n",
       "<p>5 rows × 23 columns</p>\n",
       "</div>"
      ],
      "text/plain": [
       "   CLIENTNUM     Attrition_Flag  Customer_Age Gender  Dependent_count  \\\n",
       "0  768805383  Existing Customer            45      M                3   \n",
       "1  818770008  Existing Customer            49      F                5   \n",
       "2  713982108  Existing Customer            51      M                3   \n",
       "3  769911858  Existing Customer            40      F                4   \n",
       "4  709106358  Existing Customer            40      M                3   \n",
       "\n",
       "  Education_Level Marital_Status Income_Category Card_Category  \\\n",
       "0     High School        Married     $60K - $80K          Blue   \n",
       "1        Graduate         Single  Less than $40K          Blue   \n",
       "2        Graduate        Married    $80K - $120K          Blue   \n",
       "3     High School        Unknown  Less than $40K          Blue   \n",
       "4      Uneducated        Married     $60K - $80K          Blue   \n",
       "\n",
       "   Months_on_book  ...  Credit_Limit  Total_Revolving_Bal  Avg_Open_To_Buy  \\\n",
       "0              39  ...       12691.0                  777          11914.0   \n",
       "1              44  ...        8256.0                  864           7392.0   \n",
       "2              36  ...        3418.0                    0           3418.0   \n",
       "3              34  ...        3313.0                 2517            796.0   \n",
       "4              21  ...        4716.0                    0           4716.0   \n",
       "\n",
       "   Total_Amt_Chng_Q4_Q1  Total_Trans_Amt  Total_Trans_Ct  Total_Ct_Chng_Q4_Q1  \\\n",
       "0                 1.335             1144              42                1.625   \n",
       "1                 1.541             1291              33                3.714   \n",
       "2                 2.594             1887              20                2.333   \n",
       "3                 1.405             1171              20                2.333   \n",
       "4                 2.175              816              28                2.500   \n",
       "\n",
       "   Avg_Utilization_Ratio  \\\n",
       "0                  0.061   \n",
       "1                  0.105   \n",
       "2                  0.000   \n",
       "3                  0.760   \n",
       "4                  0.000   \n",
       "\n",
       "   Naive_Bayes_Classifier_Attrition_Flag_Card_Category_Contacts_Count_12_mon_Dependent_count_Education_Level_Months_Inactive_12_mon_1  \\\n",
       "0                                           0.000093                                                                                    \n",
       "1                                           0.000057                                                                                    \n",
       "2                                           0.000021                                                                                    \n",
       "3                                           0.000134                                                                                    \n",
       "4                                           0.000022                                                                                    \n",
       "\n",
       "   Naive_Bayes_Classifier_Attrition_Flag_Card_Category_Contacts_Count_12_mon_Dependent_count_Education_Level_Months_Inactive_12_mon_2  \n",
       "0                                            0.99991                                                                                   \n",
       "1                                            0.99994                                                                                   \n",
       "2                                            0.99998                                                                                   \n",
       "3                                            0.99987                                                                                   \n",
       "4                                            0.99998                                                                                   \n",
       "\n",
       "[5 rows x 23 columns]"
      ]
     },
     "execution_count": 2,
     "metadata": {},
     "output_type": "execute_result"
    }
   ],
   "source": [
    "df = pd.read_csv('C:\\\\Users\\\\nhars\\\\Downloads\\\\BankChurners.csv\\\\BankChurners.csv')\n",
    "df.head()"
   ]
  },
  {
   "cell_type": "markdown",
   "id": "0f40ec0d-fcac-4bcf-a053-2922601a005d",
   "metadata": {},
   "source": [
    "# Overview and the statistical summary"
   ]
  },
  {
   "cell_type": "code",
   "execution_count": 3,
   "id": "798d71ff-2267-489e-bb86-d993f057abc3",
   "metadata": {},
   "outputs": [
    {
     "name": "stdout",
     "output_type": "stream",
     "text": [
      "<class 'pandas.core.frame.DataFrame'>\n",
      "RangeIndex: 10127 entries, 0 to 10126\n",
      "Data columns (total 23 columns):\n",
      " #   Column                                                                                                                              Non-Null Count  Dtype  \n",
      "---  ------                                                                                                                              --------------  -----  \n",
      " 0   CLIENTNUM                                                                                                                           10127 non-null  int64  \n",
      " 1   Attrition_Flag                                                                                                                      10127 non-null  object \n",
      " 2   Customer_Age                                                                                                                        10127 non-null  int64  \n",
      " 3   Gender                                                                                                                              10127 non-null  object \n",
      " 4   Dependent_count                                                                                                                     10127 non-null  int64  \n",
      " 5   Education_Level                                                                                                                     10127 non-null  object \n",
      " 6   Marital_Status                                                                                                                      10127 non-null  object \n",
      " 7   Income_Category                                                                                                                     10127 non-null  object \n",
      " 8   Card_Category                                                                                                                       10127 non-null  object \n",
      " 9   Months_on_book                                                                                                                      10127 non-null  int64  \n",
      " 10  Total_Relationship_Count                                                                                                            10127 non-null  int64  \n",
      " 11  Months_Inactive_12_mon                                                                                                              10127 non-null  int64  \n",
      " 12  Contacts_Count_12_mon                                                                                                               10127 non-null  int64  \n",
      " 13  Credit_Limit                                                                                                                        10127 non-null  float64\n",
      " 14  Total_Revolving_Bal                                                                                                                 10127 non-null  int64  \n",
      " 15  Avg_Open_To_Buy                                                                                                                     10127 non-null  float64\n",
      " 16  Total_Amt_Chng_Q4_Q1                                                                                                                10127 non-null  float64\n",
      " 17  Total_Trans_Amt                                                                                                                     10127 non-null  int64  \n",
      " 18  Total_Trans_Ct                                                                                                                      10127 non-null  int64  \n",
      " 19  Total_Ct_Chng_Q4_Q1                                                                                                                 10127 non-null  float64\n",
      " 20  Avg_Utilization_Ratio                                                                                                               10127 non-null  float64\n",
      " 21  Naive_Bayes_Classifier_Attrition_Flag_Card_Category_Contacts_Count_12_mon_Dependent_count_Education_Level_Months_Inactive_12_mon_1  10127 non-null  float64\n",
      " 22  Naive_Bayes_Classifier_Attrition_Flag_Card_Category_Contacts_Count_12_mon_Dependent_count_Education_Level_Months_Inactive_12_mon_2  10127 non-null  float64\n",
      "dtypes: float64(7), int64(10), object(6)\n",
      "memory usage: 1.8+ MB\n"
     ]
    }
   ],
   "source": [
    "df.info()"
   ]
  },
  {
   "cell_type": "code",
   "execution_count": 4,
   "id": "973cfdda-ee41-4464-b0cb-1f50c362a3a3",
   "metadata": {},
   "outputs": [
    {
     "data": {
      "text/plain": [
       "(10127, 23)"
      ]
     },
     "execution_count": 4,
     "metadata": {},
     "output_type": "execute_result"
    }
   ],
   "source": [
    "# checking the shape of the dataset\n",
    "df.shape"
   ]
  },
  {
   "cell_type": "code",
   "execution_count": 5,
   "id": "c2da432b-d0a2-482e-a34a-fad444ead572",
   "metadata": {},
   "outputs": [
    {
     "data": {
      "text/html": [
       "<div>\n",
       "<style scoped>\n",
       "    .dataframe tbody tr th:only-of-type {\n",
       "        vertical-align: middle;\n",
       "    }\n",
       "\n",
       "    .dataframe tbody tr th {\n",
       "        vertical-align: top;\n",
       "    }\n",
       "\n",
       "    .dataframe thead th {\n",
       "        text-align: right;\n",
       "    }\n",
       "</style>\n",
       "<table border=\"1\" class=\"dataframe\">\n",
       "  <thead>\n",
       "    <tr style=\"text-align: right;\">\n",
       "      <th></th>\n",
       "      <th>count</th>\n",
       "      <th>unique</th>\n",
       "      <th>top</th>\n",
       "      <th>freq</th>\n",
       "      <th>mean</th>\n",
       "      <th>std</th>\n",
       "      <th>min</th>\n",
       "      <th>25%</th>\n",
       "      <th>50%</th>\n",
       "      <th>75%</th>\n",
       "      <th>max</th>\n",
       "    </tr>\n",
       "  </thead>\n",
       "  <tbody>\n",
       "    <tr>\n",
       "      <th>CLIENTNUM</th>\n",
       "      <td>10127.0</td>\n",
       "      <td>NaN</td>\n",
       "      <td>NaN</td>\n",
       "      <td>NaN</td>\n",
       "      <td>739177606.333663</td>\n",
       "      <td>36903783.450231</td>\n",
       "      <td>708082083.0</td>\n",
       "      <td>713036770.5</td>\n",
       "      <td>717926358.0</td>\n",
       "      <td>773143533.0</td>\n",
       "      <td>828343083.0</td>\n",
       "    </tr>\n",
       "    <tr>\n",
       "      <th>Attrition_Flag</th>\n",
       "      <td>10127</td>\n",
       "      <td>2</td>\n",
       "      <td>Existing Customer</td>\n",
       "      <td>8500</td>\n",
       "      <td>NaN</td>\n",
       "      <td>NaN</td>\n",
       "      <td>NaN</td>\n",
       "      <td>NaN</td>\n",
       "      <td>NaN</td>\n",
       "      <td>NaN</td>\n",
       "      <td>NaN</td>\n",
       "    </tr>\n",
       "    <tr>\n",
       "      <th>Customer_Age</th>\n",
       "      <td>10127.0</td>\n",
       "      <td>NaN</td>\n",
       "      <td>NaN</td>\n",
       "      <td>NaN</td>\n",
       "      <td>46.32596</td>\n",
       "      <td>8.016814</td>\n",
       "      <td>26.0</td>\n",
       "      <td>41.0</td>\n",
       "      <td>46.0</td>\n",
       "      <td>52.0</td>\n",
       "      <td>73.0</td>\n",
       "    </tr>\n",
       "    <tr>\n",
       "      <th>Gender</th>\n",
       "      <td>10127</td>\n",
       "      <td>2</td>\n",
       "      <td>F</td>\n",
       "      <td>5358</td>\n",
       "      <td>NaN</td>\n",
       "      <td>NaN</td>\n",
       "      <td>NaN</td>\n",
       "      <td>NaN</td>\n",
       "      <td>NaN</td>\n",
       "      <td>NaN</td>\n",
       "      <td>NaN</td>\n",
       "    </tr>\n",
       "    <tr>\n",
       "      <th>Dependent_count</th>\n",
       "      <td>10127.0</td>\n",
       "      <td>NaN</td>\n",
       "      <td>NaN</td>\n",
       "      <td>NaN</td>\n",
       "      <td>2.346203</td>\n",
       "      <td>1.298908</td>\n",
       "      <td>0.0</td>\n",
       "      <td>1.0</td>\n",
       "      <td>2.0</td>\n",
       "      <td>3.0</td>\n",
       "      <td>5.0</td>\n",
       "    </tr>\n",
       "    <tr>\n",
       "      <th>Education_Level</th>\n",
       "      <td>10127</td>\n",
       "      <td>7</td>\n",
       "      <td>Graduate</td>\n",
       "      <td>3128</td>\n",
       "      <td>NaN</td>\n",
       "      <td>NaN</td>\n",
       "      <td>NaN</td>\n",
       "      <td>NaN</td>\n",
       "      <td>NaN</td>\n",
       "      <td>NaN</td>\n",
       "      <td>NaN</td>\n",
       "    </tr>\n",
       "    <tr>\n",
       "      <th>Marital_Status</th>\n",
       "      <td>10127</td>\n",
       "      <td>4</td>\n",
       "      <td>Married</td>\n",
       "      <td>4687</td>\n",
       "      <td>NaN</td>\n",
       "      <td>NaN</td>\n",
       "      <td>NaN</td>\n",
       "      <td>NaN</td>\n",
       "      <td>NaN</td>\n",
       "      <td>NaN</td>\n",
       "      <td>NaN</td>\n",
       "    </tr>\n",
       "    <tr>\n",
       "      <th>Income_Category</th>\n",
       "      <td>10127</td>\n",
       "      <td>6</td>\n",
       "      <td>Less than $40K</td>\n",
       "      <td>3561</td>\n",
       "      <td>NaN</td>\n",
       "      <td>NaN</td>\n",
       "      <td>NaN</td>\n",
       "      <td>NaN</td>\n",
       "      <td>NaN</td>\n",
       "      <td>NaN</td>\n",
       "      <td>NaN</td>\n",
       "    </tr>\n",
       "    <tr>\n",
       "      <th>Card_Category</th>\n",
       "      <td>10127</td>\n",
       "      <td>4</td>\n",
       "      <td>Blue</td>\n",
       "      <td>9436</td>\n",
       "      <td>NaN</td>\n",
       "      <td>NaN</td>\n",
       "      <td>NaN</td>\n",
       "      <td>NaN</td>\n",
       "      <td>NaN</td>\n",
       "      <td>NaN</td>\n",
       "      <td>NaN</td>\n",
       "    </tr>\n",
       "    <tr>\n",
       "      <th>Months_on_book</th>\n",
       "      <td>10127.0</td>\n",
       "      <td>NaN</td>\n",
       "      <td>NaN</td>\n",
       "      <td>NaN</td>\n",
       "      <td>35.928409</td>\n",
       "      <td>7.986416</td>\n",
       "      <td>13.0</td>\n",
       "      <td>31.0</td>\n",
       "      <td>36.0</td>\n",
       "      <td>40.0</td>\n",
       "      <td>56.0</td>\n",
       "    </tr>\n",
       "    <tr>\n",
       "      <th>Total_Relationship_Count</th>\n",
       "      <td>10127.0</td>\n",
       "      <td>NaN</td>\n",
       "      <td>NaN</td>\n",
       "      <td>NaN</td>\n",
       "      <td>3.81258</td>\n",
       "      <td>1.554408</td>\n",
       "      <td>1.0</td>\n",
       "      <td>3.0</td>\n",
       "      <td>4.0</td>\n",
       "      <td>5.0</td>\n",
       "      <td>6.0</td>\n",
       "    </tr>\n",
       "    <tr>\n",
       "      <th>Months_Inactive_12_mon</th>\n",
       "      <td>10127.0</td>\n",
       "      <td>NaN</td>\n",
       "      <td>NaN</td>\n",
       "      <td>NaN</td>\n",
       "      <td>2.341167</td>\n",
       "      <td>1.010622</td>\n",
       "      <td>0.0</td>\n",
       "      <td>2.0</td>\n",
       "      <td>2.0</td>\n",
       "      <td>3.0</td>\n",
       "      <td>6.0</td>\n",
       "    </tr>\n",
       "    <tr>\n",
       "      <th>Contacts_Count_12_mon</th>\n",
       "      <td>10127.0</td>\n",
       "      <td>NaN</td>\n",
       "      <td>NaN</td>\n",
       "      <td>NaN</td>\n",
       "      <td>2.455317</td>\n",
       "      <td>1.106225</td>\n",
       "      <td>0.0</td>\n",
       "      <td>2.0</td>\n",
       "      <td>2.0</td>\n",
       "      <td>3.0</td>\n",
       "      <td>6.0</td>\n",
       "    </tr>\n",
       "    <tr>\n",
       "      <th>Credit_Limit</th>\n",
       "      <td>10127.0</td>\n",
       "      <td>NaN</td>\n",
       "      <td>NaN</td>\n",
       "      <td>NaN</td>\n",
       "      <td>8631.953698</td>\n",
       "      <td>9088.77665</td>\n",
       "      <td>1438.3</td>\n",
       "      <td>2555.0</td>\n",
       "      <td>4549.0</td>\n",
       "      <td>11067.5</td>\n",
       "      <td>34516.0</td>\n",
       "    </tr>\n",
       "    <tr>\n",
       "      <th>Total_Revolving_Bal</th>\n",
       "      <td>10127.0</td>\n",
       "      <td>NaN</td>\n",
       "      <td>NaN</td>\n",
       "      <td>NaN</td>\n",
       "      <td>1162.814061</td>\n",
       "      <td>814.987335</td>\n",
       "      <td>0.0</td>\n",
       "      <td>359.0</td>\n",
       "      <td>1276.0</td>\n",
       "      <td>1784.0</td>\n",
       "      <td>2517.0</td>\n",
       "    </tr>\n",
       "    <tr>\n",
       "      <th>Avg_Open_To_Buy</th>\n",
       "      <td>10127.0</td>\n",
       "      <td>NaN</td>\n",
       "      <td>NaN</td>\n",
       "      <td>NaN</td>\n",
       "      <td>7469.139637</td>\n",
       "      <td>9090.685324</td>\n",
       "      <td>3.0</td>\n",
       "      <td>1324.5</td>\n",
       "      <td>3474.0</td>\n",
       "      <td>9859.0</td>\n",
       "      <td>34516.0</td>\n",
       "    </tr>\n",
       "    <tr>\n",
       "      <th>Total_Amt_Chng_Q4_Q1</th>\n",
       "      <td>10127.0</td>\n",
       "      <td>NaN</td>\n",
       "      <td>NaN</td>\n",
       "      <td>NaN</td>\n",
       "      <td>0.759941</td>\n",
       "      <td>0.219207</td>\n",
       "      <td>0.0</td>\n",
       "      <td>0.631</td>\n",
       "      <td>0.736</td>\n",
       "      <td>0.859</td>\n",
       "      <td>3.397</td>\n",
       "    </tr>\n",
       "    <tr>\n",
       "      <th>Total_Trans_Amt</th>\n",
       "      <td>10127.0</td>\n",
       "      <td>NaN</td>\n",
       "      <td>NaN</td>\n",
       "      <td>NaN</td>\n",
       "      <td>4404.086304</td>\n",
       "      <td>3397.129254</td>\n",
       "      <td>510.0</td>\n",
       "      <td>2155.5</td>\n",
       "      <td>3899.0</td>\n",
       "      <td>4741.0</td>\n",
       "      <td>18484.0</td>\n",
       "    </tr>\n",
       "    <tr>\n",
       "      <th>Total_Trans_Ct</th>\n",
       "      <td>10127.0</td>\n",
       "      <td>NaN</td>\n",
       "      <td>NaN</td>\n",
       "      <td>NaN</td>\n",
       "      <td>64.858695</td>\n",
       "      <td>23.47257</td>\n",
       "      <td>10.0</td>\n",
       "      <td>45.0</td>\n",
       "      <td>67.0</td>\n",
       "      <td>81.0</td>\n",
       "      <td>139.0</td>\n",
       "    </tr>\n",
       "    <tr>\n",
       "      <th>Total_Ct_Chng_Q4_Q1</th>\n",
       "      <td>10127.0</td>\n",
       "      <td>NaN</td>\n",
       "      <td>NaN</td>\n",
       "      <td>NaN</td>\n",
       "      <td>0.712222</td>\n",
       "      <td>0.238086</td>\n",
       "      <td>0.0</td>\n",
       "      <td>0.582</td>\n",
       "      <td>0.702</td>\n",
       "      <td>0.818</td>\n",
       "      <td>3.714</td>\n",
       "    </tr>\n",
       "    <tr>\n",
       "      <th>Avg_Utilization_Ratio</th>\n",
       "      <td>10127.0</td>\n",
       "      <td>NaN</td>\n",
       "      <td>NaN</td>\n",
       "      <td>NaN</td>\n",
       "      <td>0.274894</td>\n",
       "      <td>0.275691</td>\n",
       "      <td>0.0</td>\n",
       "      <td>0.023</td>\n",
       "      <td>0.176</td>\n",
       "      <td>0.503</td>\n",
       "      <td>0.999</td>\n",
       "    </tr>\n",
       "    <tr>\n",
       "      <th>Naive_Bayes_Classifier_Attrition_Flag_Card_Category_Contacts_Count_12_mon_Dependent_count_Education_Level_Months_Inactive_12_mon_1</th>\n",
       "      <td>10127.0</td>\n",
       "      <td>NaN</td>\n",
       "      <td>NaN</td>\n",
       "      <td>NaN</td>\n",
       "      <td>0.159997</td>\n",
       "      <td>0.365301</td>\n",
       "      <td>0.000008</td>\n",
       "      <td>0.000099</td>\n",
       "      <td>0.000181</td>\n",
       "      <td>0.000337</td>\n",
       "      <td>0.99958</td>\n",
       "    </tr>\n",
       "    <tr>\n",
       "      <th>Naive_Bayes_Classifier_Attrition_Flag_Card_Category_Contacts_Count_12_mon_Dependent_count_Education_Level_Months_Inactive_12_mon_2</th>\n",
       "      <td>10127.0</td>\n",
       "      <td>NaN</td>\n",
       "      <td>NaN</td>\n",
       "      <td>NaN</td>\n",
       "      <td>0.840003</td>\n",
       "      <td>0.365301</td>\n",
       "      <td>0.00042</td>\n",
       "      <td>0.99966</td>\n",
       "      <td>0.99982</td>\n",
       "      <td>0.9999</td>\n",
       "      <td>0.99999</td>\n",
       "    </tr>\n",
       "  </tbody>\n",
       "</table>\n",
       "</div>"
      ],
      "text/plain": [
       "                                                      count unique  \\\n",
       "CLIENTNUM                                           10127.0    NaN   \n",
       "Attrition_Flag                                        10127      2   \n",
       "Customer_Age                                        10127.0    NaN   \n",
       "Gender                                                10127      2   \n",
       "Dependent_count                                     10127.0    NaN   \n",
       "Education_Level                                       10127      7   \n",
       "Marital_Status                                        10127      4   \n",
       "Income_Category                                       10127      6   \n",
       "Card_Category                                         10127      4   \n",
       "Months_on_book                                      10127.0    NaN   \n",
       "Total_Relationship_Count                            10127.0    NaN   \n",
       "Months_Inactive_12_mon                              10127.0    NaN   \n",
       "Contacts_Count_12_mon                               10127.0    NaN   \n",
       "Credit_Limit                                        10127.0    NaN   \n",
       "Total_Revolving_Bal                                 10127.0    NaN   \n",
       "Avg_Open_To_Buy                                     10127.0    NaN   \n",
       "Total_Amt_Chng_Q4_Q1                                10127.0    NaN   \n",
       "Total_Trans_Amt                                     10127.0    NaN   \n",
       "Total_Trans_Ct                                      10127.0    NaN   \n",
       "Total_Ct_Chng_Q4_Q1                                 10127.0    NaN   \n",
       "Avg_Utilization_Ratio                               10127.0    NaN   \n",
       "Naive_Bayes_Classifier_Attrition_Flag_Card_Cate...  10127.0    NaN   \n",
       "Naive_Bayes_Classifier_Attrition_Flag_Card_Cate...  10127.0    NaN   \n",
       "\n",
       "                                                                  top  freq  \\\n",
       "CLIENTNUM                                                         NaN   NaN   \n",
       "Attrition_Flag                                      Existing Customer  8500   \n",
       "Customer_Age                                                      NaN   NaN   \n",
       "Gender                                                              F  5358   \n",
       "Dependent_count                                                   NaN   NaN   \n",
       "Education_Level                                              Graduate  3128   \n",
       "Marital_Status                                                Married  4687   \n",
       "Income_Category                                        Less than $40K  3561   \n",
       "Card_Category                                                    Blue  9436   \n",
       "Months_on_book                                                    NaN   NaN   \n",
       "Total_Relationship_Count                                          NaN   NaN   \n",
       "Months_Inactive_12_mon                                            NaN   NaN   \n",
       "Contacts_Count_12_mon                                             NaN   NaN   \n",
       "Credit_Limit                                                      NaN   NaN   \n",
       "Total_Revolving_Bal                                               NaN   NaN   \n",
       "Avg_Open_To_Buy                                                   NaN   NaN   \n",
       "Total_Amt_Chng_Q4_Q1                                              NaN   NaN   \n",
       "Total_Trans_Amt                                                   NaN   NaN   \n",
       "Total_Trans_Ct                                                    NaN   NaN   \n",
       "Total_Ct_Chng_Q4_Q1                                               NaN   NaN   \n",
       "Avg_Utilization_Ratio                                             NaN   NaN   \n",
       "Naive_Bayes_Classifier_Attrition_Flag_Card_Cate...                NaN   NaN   \n",
       "Naive_Bayes_Classifier_Attrition_Flag_Card_Cate...                NaN   NaN   \n",
       "\n",
       "                                                                mean  \\\n",
       "CLIENTNUM                                           739177606.333663   \n",
       "Attrition_Flag                                                   NaN   \n",
       "Customer_Age                                                46.32596   \n",
       "Gender                                                           NaN   \n",
       "Dependent_count                                             2.346203   \n",
       "Education_Level                                                  NaN   \n",
       "Marital_Status                                                   NaN   \n",
       "Income_Category                                                  NaN   \n",
       "Card_Category                                                    NaN   \n",
       "Months_on_book                                             35.928409   \n",
       "Total_Relationship_Count                                     3.81258   \n",
       "Months_Inactive_12_mon                                      2.341167   \n",
       "Contacts_Count_12_mon                                       2.455317   \n",
       "Credit_Limit                                             8631.953698   \n",
       "Total_Revolving_Bal                                      1162.814061   \n",
       "Avg_Open_To_Buy                                          7469.139637   \n",
       "Total_Amt_Chng_Q4_Q1                                        0.759941   \n",
       "Total_Trans_Amt                                          4404.086304   \n",
       "Total_Trans_Ct                                             64.858695   \n",
       "Total_Ct_Chng_Q4_Q1                                         0.712222   \n",
       "Avg_Utilization_Ratio                                       0.274894   \n",
       "Naive_Bayes_Classifier_Attrition_Flag_Card_Cate...          0.159997   \n",
       "Naive_Bayes_Classifier_Attrition_Flag_Card_Cate...          0.840003   \n",
       "\n",
       "                                                                std  \\\n",
       "CLIENTNUM                                           36903783.450231   \n",
       "Attrition_Flag                                                  NaN   \n",
       "Customer_Age                                               8.016814   \n",
       "Gender                                                          NaN   \n",
       "Dependent_count                                            1.298908   \n",
       "Education_Level                                                 NaN   \n",
       "Marital_Status                                                  NaN   \n",
       "Income_Category                                                 NaN   \n",
       "Card_Category                                                   NaN   \n",
       "Months_on_book                                             7.986416   \n",
       "Total_Relationship_Count                                   1.554408   \n",
       "Months_Inactive_12_mon                                     1.010622   \n",
       "Contacts_Count_12_mon                                      1.106225   \n",
       "Credit_Limit                                             9088.77665   \n",
       "Total_Revolving_Bal                                      814.987335   \n",
       "Avg_Open_To_Buy                                         9090.685324   \n",
       "Total_Amt_Chng_Q4_Q1                                       0.219207   \n",
       "Total_Trans_Amt                                         3397.129254   \n",
       "Total_Trans_Ct                                             23.47257   \n",
       "Total_Ct_Chng_Q4_Q1                                        0.238086   \n",
       "Avg_Utilization_Ratio                                      0.275691   \n",
       "Naive_Bayes_Classifier_Attrition_Flag_Card_Cate...         0.365301   \n",
       "Naive_Bayes_Classifier_Attrition_Flag_Card_Cate...         0.365301   \n",
       "\n",
       "                                                            min          25%  \\\n",
       "CLIENTNUM                                           708082083.0  713036770.5   \n",
       "Attrition_Flag                                              NaN          NaN   \n",
       "Customer_Age                                               26.0         41.0   \n",
       "Gender                                                      NaN          NaN   \n",
       "Dependent_count                                             0.0          1.0   \n",
       "Education_Level                                             NaN          NaN   \n",
       "Marital_Status                                              NaN          NaN   \n",
       "Income_Category                                             NaN          NaN   \n",
       "Card_Category                                               NaN          NaN   \n",
       "Months_on_book                                             13.0         31.0   \n",
       "Total_Relationship_Count                                    1.0          3.0   \n",
       "Months_Inactive_12_mon                                      0.0          2.0   \n",
       "Contacts_Count_12_mon                                       0.0          2.0   \n",
       "Credit_Limit                                             1438.3       2555.0   \n",
       "Total_Revolving_Bal                                         0.0        359.0   \n",
       "Avg_Open_To_Buy                                             3.0       1324.5   \n",
       "Total_Amt_Chng_Q4_Q1                                        0.0        0.631   \n",
       "Total_Trans_Amt                                           510.0       2155.5   \n",
       "Total_Trans_Ct                                             10.0         45.0   \n",
       "Total_Ct_Chng_Q4_Q1                                         0.0        0.582   \n",
       "Avg_Utilization_Ratio                                       0.0        0.023   \n",
       "Naive_Bayes_Classifier_Attrition_Flag_Card_Cate...     0.000008     0.000099   \n",
       "Naive_Bayes_Classifier_Attrition_Flag_Card_Cate...      0.00042      0.99966   \n",
       "\n",
       "                                                            50%          75%  \\\n",
       "CLIENTNUM                                           717926358.0  773143533.0   \n",
       "Attrition_Flag                                              NaN          NaN   \n",
       "Customer_Age                                               46.0         52.0   \n",
       "Gender                                                      NaN          NaN   \n",
       "Dependent_count                                             2.0          3.0   \n",
       "Education_Level                                             NaN          NaN   \n",
       "Marital_Status                                              NaN          NaN   \n",
       "Income_Category                                             NaN          NaN   \n",
       "Card_Category                                               NaN          NaN   \n",
       "Months_on_book                                             36.0         40.0   \n",
       "Total_Relationship_Count                                    4.0          5.0   \n",
       "Months_Inactive_12_mon                                      2.0          3.0   \n",
       "Contacts_Count_12_mon                                       2.0          3.0   \n",
       "Credit_Limit                                             4549.0      11067.5   \n",
       "Total_Revolving_Bal                                      1276.0       1784.0   \n",
       "Avg_Open_To_Buy                                          3474.0       9859.0   \n",
       "Total_Amt_Chng_Q4_Q1                                      0.736        0.859   \n",
       "Total_Trans_Amt                                          3899.0       4741.0   \n",
       "Total_Trans_Ct                                             67.0         81.0   \n",
       "Total_Ct_Chng_Q4_Q1                                       0.702        0.818   \n",
       "Avg_Utilization_Ratio                                     0.176        0.503   \n",
       "Naive_Bayes_Classifier_Attrition_Flag_Card_Cate...     0.000181     0.000337   \n",
       "Naive_Bayes_Classifier_Attrition_Flag_Card_Cate...      0.99982       0.9999   \n",
       "\n",
       "                                                            max  \n",
       "CLIENTNUM                                           828343083.0  \n",
       "Attrition_Flag                                              NaN  \n",
       "Customer_Age                                               73.0  \n",
       "Gender                                                      NaN  \n",
       "Dependent_count                                             5.0  \n",
       "Education_Level                                             NaN  \n",
       "Marital_Status                                              NaN  \n",
       "Income_Category                                             NaN  \n",
       "Card_Category                                               NaN  \n",
       "Months_on_book                                             56.0  \n",
       "Total_Relationship_Count                                    6.0  \n",
       "Months_Inactive_12_mon                                      6.0  \n",
       "Contacts_Count_12_mon                                       6.0  \n",
       "Credit_Limit                                            34516.0  \n",
       "Total_Revolving_Bal                                      2517.0  \n",
       "Avg_Open_To_Buy                                         34516.0  \n",
       "Total_Amt_Chng_Q4_Q1                                      3.397  \n",
       "Total_Trans_Amt                                         18484.0  \n",
       "Total_Trans_Ct                                            139.0  \n",
       "Total_Ct_Chng_Q4_Q1                                       3.714  \n",
       "Avg_Utilization_Ratio                                     0.999  \n",
       "Naive_Bayes_Classifier_Attrition_Flag_Card_Cate...      0.99958  \n",
       "Naive_Bayes_Classifier_Attrition_Flag_Card_Cate...      0.99999  "
      ]
     },
     "execution_count": 5,
     "metadata": {},
     "output_type": "execute_result"
    }
   ],
   "source": [
    "df.describe(include='all').T"
   ]
  },
  {
   "cell_type": "markdown",
   "id": "ce46c664-6da5-4065-a332-c9b28e227d0e",
   "metadata": {},
   "source": [
    "# Data cleaning"
   ]
  },
  {
   "cell_type": "code",
   "execution_count": 6,
   "id": "7c1350f5-e2fa-4143-910b-d1c65a5f58c9",
   "metadata": {},
   "outputs": [
    {
     "data": {
      "text/html": [
       "<div>\n",
       "<style scoped>\n",
       "    .dataframe tbody tr th:only-of-type {\n",
       "        vertical-align: middle;\n",
       "    }\n",
       "\n",
       "    .dataframe tbody tr th {\n",
       "        vertical-align: top;\n",
       "    }\n",
       "\n",
       "    .dataframe thead th {\n",
       "        text-align: right;\n",
       "    }\n",
       "</style>\n",
       "<table border=\"1\" class=\"dataframe\">\n",
       "  <thead>\n",
       "    <tr style=\"text-align: right;\">\n",
       "      <th></th>\n",
       "      <th>Attrition_Flag</th>\n",
       "      <th>Customer_Age</th>\n",
       "      <th>Gender</th>\n",
       "      <th>Dependent_count</th>\n",
       "      <th>Education_Level</th>\n",
       "      <th>Marital_Status</th>\n",
       "      <th>Income_Category</th>\n",
       "      <th>Card_Category</th>\n",
       "      <th>Months_on_book</th>\n",
       "      <th>Total_Relationship_Count</th>\n",
       "      <th>Months_Inactive_12_mon</th>\n",
       "      <th>Contacts_Count_12_mon</th>\n",
       "      <th>Credit_Limit</th>\n",
       "      <th>Total_Revolving_Bal</th>\n",
       "      <th>Avg_Open_To_Buy</th>\n",
       "      <th>Total_Amt_Chng_Q4_Q1</th>\n",
       "      <th>Total_Trans_Amt</th>\n",
       "      <th>Total_Trans_Ct</th>\n",
       "      <th>Total_Ct_Chng_Q4_Q1</th>\n",
       "      <th>Avg_Utilization_Ratio</th>\n",
       "    </tr>\n",
       "  </thead>\n",
       "  <tbody>\n",
       "    <tr>\n",
       "      <th>0</th>\n",
       "      <td>Existing Customer</td>\n",
       "      <td>45</td>\n",
       "      <td>M</td>\n",
       "      <td>3</td>\n",
       "      <td>High School</td>\n",
       "      <td>Married</td>\n",
       "      <td>$60K - $80K</td>\n",
       "      <td>Blue</td>\n",
       "      <td>39</td>\n",
       "      <td>5</td>\n",
       "      <td>1</td>\n",
       "      <td>3</td>\n",
       "      <td>12691.0</td>\n",
       "      <td>777</td>\n",
       "      <td>11914.0</td>\n",
       "      <td>1.335</td>\n",
       "      <td>1144</td>\n",
       "      <td>42</td>\n",
       "      <td>1.625</td>\n",
       "      <td>0.061</td>\n",
       "    </tr>\n",
       "    <tr>\n",
       "      <th>1</th>\n",
       "      <td>Existing Customer</td>\n",
       "      <td>49</td>\n",
       "      <td>F</td>\n",
       "      <td>5</td>\n",
       "      <td>Graduate</td>\n",
       "      <td>Single</td>\n",
       "      <td>Less than $40K</td>\n",
       "      <td>Blue</td>\n",
       "      <td>44</td>\n",
       "      <td>6</td>\n",
       "      <td>1</td>\n",
       "      <td>2</td>\n",
       "      <td>8256.0</td>\n",
       "      <td>864</td>\n",
       "      <td>7392.0</td>\n",
       "      <td>1.541</td>\n",
       "      <td>1291</td>\n",
       "      <td>33</td>\n",
       "      <td>3.714</td>\n",
       "      <td>0.105</td>\n",
       "    </tr>\n",
       "    <tr>\n",
       "      <th>2</th>\n",
       "      <td>Existing Customer</td>\n",
       "      <td>51</td>\n",
       "      <td>M</td>\n",
       "      <td>3</td>\n",
       "      <td>Graduate</td>\n",
       "      <td>Married</td>\n",
       "      <td>$80K - $120K</td>\n",
       "      <td>Blue</td>\n",
       "      <td>36</td>\n",
       "      <td>4</td>\n",
       "      <td>1</td>\n",
       "      <td>0</td>\n",
       "      <td>3418.0</td>\n",
       "      <td>0</td>\n",
       "      <td>3418.0</td>\n",
       "      <td>2.594</td>\n",
       "      <td>1887</td>\n",
       "      <td>20</td>\n",
       "      <td>2.333</td>\n",
       "      <td>0.000</td>\n",
       "    </tr>\n",
       "    <tr>\n",
       "      <th>3</th>\n",
       "      <td>Existing Customer</td>\n",
       "      <td>40</td>\n",
       "      <td>F</td>\n",
       "      <td>4</td>\n",
       "      <td>High School</td>\n",
       "      <td>Unknown</td>\n",
       "      <td>Less than $40K</td>\n",
       "      <td>Blue</td>\n",
       "      <td>34</td>\n",
       "      <td>3</td>\n",
       "      <td>4</td>\n",
       "      <td>1</td>\n",
       "      <td>3313.0</td>\n",
       "      <td>2517</td>\n",
       "      <td>796.0</td>\n",
       "      <td>1.405</td>\n",
       "      <td>1171</td>\n",
       "      <td>20</td>\n",
       "      <td>2.333</td>\n",
       "      <td>0.760</td>\n",
       "    </tr>\n",
       "    <tr>\n",
       "      <th>4</th>\n",
       "      <td>Existing Customer</td>\n",
       "      <td>40</td>\n",
       "      <td>M</td>\n",
       "      <td>3</td>\n",
       "      <td>Uneducated</td>\n",
       "      <td>Married</td>\n",
       "      <td>$60K - $80K</td>\n",
       "      <td>Blue</td>\n",
       "      <td>21</td>\n",
       "      <td>5</td>\n",
       "      <td>1</td>\n",
       "      <td>0</td>\n",
       "      <td>4716.0</td>\n",
       "      <td>0</td>\n",
       "      <td>4716.0</td>\n",
       "      <td>2.175</td>\n",
       "      <td>816</td>\n",
       "      <td>28</td>\n",
       "      <td>2.500</td>\n",
       "      <td>0.000</td>\n",
       "    </tr>\n",
       "  </tbody>\n",
       "</table>\n",
       "</div>"
      ],
      "text/plain": [
       "      Attrition_Flag  Customer_Age Gender  Dependent_count Education_Level  \\\n",
       "0  Existing Customer            45      M                3     High School   \n",
       "1  Existing Customer            49      F                5        Graduate   \n",
       "2  Existing Customer            51      M                3        Graduate   \n",
       "3  Existing Customer            40      F                4     High School   \n",
       "4  Existing Customer            40      M                3      Uneducated   \n",
       "\n",
       "  Marital_Status Income_Category Card_Category  Months_on_book  \\\n",
       "0        Married     $60K - $80K          Blue              39   \n",
       "1         Single  Less than $40K          Blue              44   \n",
       "2        Married    $80K - $120K          Blue              36   \n",
       "3        Unknown  Less than $40K          Blue              34   \n",
       "4        Married     $60K - $80K          Blue              21   \n",
       "\n",
       "   Total_Relationship_Count  Months_Inactive_12_mon  Contacts_Count_12_mon  \\\n",
       "0                         5                       1                      3   \n",
       "1                         6                       1                      2   \n",
       "2                         4                       1                      0   \n",
       "3                         3                       4                      1   \n",
       "4                         5                       1                      0   \n",
       "\n",
       "   Credit_Limit  Total_Revolving_Bal  Avg_Open_To_Buy  Total_Amt_Chng_Q4_Q1  \\\n",
       "0       12691.0                  777          11914.0                 1.335   \n",
       "1        8256.0                  864           7392.0                 1.541   \n",
       "2        3418.0                    0           3418.0                 2.594   \n",
       "3        3313.0                 2517            796.0                 1.405   \n",
       "4        4716.0                    0           4716.0                 2.175   \n",
       "\n",
       "   Total_Trans_Amt  Total_Trans_Ct  Total_Ct_Chng_Q4_Q1  Avg_Utilization_Ratio  \n",
       "0             1144              42                1.625                  0.061  \n",
       "1             1291              33                3.714                  0.105  \n",
       "2             1887              20                2.333                  0.000  \n",
       "3             1171              20                2.333                  0.760  \n",
       "4              816              28                2.500                  0.000  "
      ]
     },
     "execution_count": 6,
     "metadata": {},
     "output_type": "execute_result"
    }
   ],
   "source": [
    "# removing impertinent columns\n",
    "df = df.iloc[:,1:-2]\n",
    "df.head()"
   ]
  },
  {
   "cell_type": "code",
   "execution_count": 7,
   "id": "e3ac04ef-05a1-40c9-a5a1-95d723a9ea7a",
   "metadata": {},
   "outputs": [
    {
     "data": {
      "text/plain": [
       "Attrition_Flag              0\n",
       "Customer_Age                0\n",
       "Total_Ct_Chng_Q4_Q1         0\n",
       "Total_Trans_Ct              0\n",
       "Total_Trans_Amt             0\n",
       "Total_Amt_Chng_Q4_Q1        0\n",
       "Avg_Open_To_Buy             0\n",
       "Total_Revolving_Bal         0\n",
       "Credit_Limit                0\n",
       "Contacts_Count_12_mon       0\n",
       "Months_Inactive_12_mon      0\n",
       "Total_Relationship_Count    0\n",
       "Months_on_book              0\n",
       "Card_Category               0\n",
       "Income_Category             0\n",
       "Marital_Status              0\n",
       "Education_Level             0\n",
       "Dependent_count             0\n",
       "Gender                      0\n",
       "Avg_Utilization_Ratio       0\n",
       "dtype: int64"
      ]
     },
     "execution_count": 7,
     "metadata": {},
     "output_type": "execute_result"
    }
   ],
   "source": [
    "#checking for null values\n",
    "df.isna().sum().sort_values(ascending=False)"
   ]
  },
  {
   "cell_type": "markdown",
   "id": "e31513a7-359f-4616-ae7e-dff51fedb375",
   "metadata": {},
   "source": [
    "There are no null values in the dataset."
   ]
  },
  {
   "cell_type": "markdown",
   "id": "8e925e3a-34bb-484b-aa7c-346b739a9697",
   "metadata": {},
   "source": [
    "### Dealing with the outliers"
   ]
  },
  {
   "cell_type": "markdown",
   "id": "8e874af8-a503-45e5-87c1-a3bd8af29840",
   "metadata": {},
   "source": [
    "As there are only 10000 observations, instead of removing outliers, I will be replacing the extreme high values with the upper limit values."
   ]
  },
  {
   "cell_type": "code",
   "execution_count": 8,
   "id": "580dfa3b-507e-4f11-8b34-4456c15874a7",
   "metadata": {},
   "outputs": [
    {
     "data": {
      "image/png": "[encoded data removed]",
      "text/plain": [
       "<Figure size 432x288 with 1 Axes>"
      ]
     },
     "metadata": {
      "needs_background": "light"
     },
     "output_type": "display_data"
    }
   ],
   "source": [
    "plt.boxplot(df[['Credit_Limit','Avg_Open_To_Buy','Total_Trans_Amt']],labels=['Credit_Limit','Avg_Open_To_Buy','Total_Trans_Amt'])\n",
    "plt.title('checking outliers in Credit_Limit, Avg_Open_To_Buy, Total_Trans_Amt');"
   ]
  },
  {
   "cell_type": "code",
   "execution_count": 9,
   "id": "8efce238-5e9c-481d-be91-d8e01662fb8c",
   "metadata": {},
   "outputs": [],
   "source": [
    "#creating a helper function to replace higher values\n",
    "def optimise_higher_values(n):\n",
    "    if n>=upper_limit:\n",
    "        return upper_limit\n",
    "    return n"
   ]
  },
  {
   "cell_type": "code",
   "execution_count": 10,
   "id": "c9a97d2a-fbb4-47d4-97a6-88921b26c571",
   "metadata": {},
   "outputs": [],
   "source": [
    "#looping through the cols to optimise values\n",
    "cols = ['Credit_Limit','Avg_Open_To_Buy','Total_Trans_Amt']\n",
    "\n",
    "for i in cols:\n",
    "    perc_25 = df[i].quantile(.25)\n",
    "    perc_75 = df[i].quantile(.75)\n",
    "\n",
    "    iqr = perc_75 - perc_25\n",
    "\n",
    "    upper_limit = perc_75 + 1.5 * iqr\n",
    "    df[i]=df[i].apply(optimise_higher_values)\n",
    "    "
   ]
  },
  {
   "cell_type": "code",
   "execution_count": 11,
   "id": "c7ba00d2-b97c-4803-9fd1-4d901680ca01",
   "metadata": {},
   "outputs": [
    {
     "data": {
      "image/png": "[encoded data removed]",
      "text/plain": [
       "<Figure size 432x288 with 1 Axes>"
      ]
     },
     "metadata": {
      "needs_background": "light"
     },
     "output_type": "display_data"
    }
   ],
   "source": [
    "plt.boxplot(df[['Credit_Limit','Avg_Open_To_Buy','Total_Trans_Amt']],labels=['Credit_Limit','Avg_Open_To_Buy','Total_Trans_Amt'])\n",
    "plt.title('After dealing with outliers in Credit_Limit, Avg_Open_To_Buy, Total_Trans_Amt');"
   ]
  },
  {
   "cell_type": "code",
   "execution_count": 12,
   "id": "baad414e-a16c-4d80-af4d-266f6f632f0d",
   "metadata": {},
   "outputs": [
    {
     "data": {
      "text/html": [
       "<div>\n",
       "<style scoped>\n",
       "    .dataframe tbody tr th:only-of-type {\n",
       "        vertical-align: middle;\n",
       "    }\n",
       "\n",
       "    .dataframe tbody tr th {\n",
       "        vertical-align: top;\n",
       "    }\n",
       "\n",
       "    .dataframe thead th {\n",
       "        text-align: right;\n",
       "    }\n",
       "</style>\n",
       "<table border=\"1\" class=\"dataframe\">\n",
       "  <thead>\n",
       "    <tr style=\"text-align: right;\">\n",
       "      <th></th>\n",
       "      <th>count</th>\n",
       "      <th>mean</th>\n",
       "      <th>std</th>\n",
       "      <th>min</th>\n",
       "      <th>25%</th>\n",
       "      <th>50%</th>\n",
       "      <th>75%</th>\n",
       "      <th>max</th>\n",
       "    </tr>\n",
       "  </thead>\n",
       "  <tbody>\n",
       "    <tr>\n",
       "      <th>Customer_Age</th>\n",
       "      <td>10127.0</td>\n",
       "      <td>46.325960</td>\n",
       "      <td>8.016814</td>\n",
       "      <td>26.0</td>\n",
       "      <td>41.000</td>\n",
       "      <td>46.000</td>\n",
       "      <td>52.000</td>\n",
       "      <td>73.000</td>\n",
       "    </tr>\n",
       "    <tr>\n",
       "      <th>Dependent_count</th>\n",
       "      <td>10127.0</td>\n",
       "      <td>2.346203</td>\n",
       "      <td>1.298908</td>\n",
       "      <td>0.0</td>\n",
       "      <td>1.000</td>\n",
       "      <td>2.000</td>\n",
       "      <td>3.000</td>\n",
       "      <td>5.000</td>\n",
       "    </tr>\n",
       "    <tr>\n",
       "      <th>Months_on_book</th>\n",
       "      <td>10127.0</td>\n",
       "      <td>35.928409</td>\n",
       "      <td>7.986416</td>\n",
       "      <td>13.0</td>\n",
       "      <td>31.000</td>\n",
       "      <td>36.000</td>\n",
       "      <td>40.000</td>\n",
       "      <td>56.000</td>\n",
       "    </tr>\n",
       "    <tr>\n",
       "      <th>Total_Relationship_Count</th>\n",
       "      <td>10127.0</td>\n",
       "      <td>3.812580</td>\n",
       "      <td>1.554408</td>\n",
       "      <td>1.0</td>\n",
       "      <td>3.000</td>\n",
       "      <td>4.000</td>\n",
       "      <td>5.000</td>\n",
       "      <td>6.000</td>\n",
       "    </tr>\n",
       "    <tr>\n",
       "      <th>Months_Inactive_12_mon</th>\n",
       "      <td>10127.0</td>\n",
       "      <td>2.341167</td>\n",
       "      <td>1.010622</td>\n",
       "      <td>0.0</td>\n",
       "      <td>2.000</td>\n",
       "      <td>2.000</td>\n",
       "      <td>3.000</td>\n",
       "      <td>6.000</td>\n",
       "    </tr>\n",
       "    <tr>\n",
       "      <th>Contacts_Count_12_mon</th>\n",
       "      <td>10127.0</td>\n",
       "      <td>2.455317</td>\n",
       "      <td>1.106225</td>\n",
       "      <td>0.0</td>\n",
       "      <td>2.000</td>\n",
       "      <td>2.000</td>\n",
       "      <td>3.000</td>\n",
       "      <td>6.000</td>\n",
       "    </tr>\n",
       "    <tr>\n",
       "      <th>Credit_Limit</th>\n",
       "      <td>10127.0</td>\n",
       "      <td>7882.309381</td>\n",
       "      <td>7217.091225</td>\n",
       "      <td>1438.3</td>\n",
       "      <td>2555.000</td>\n",
       "      <td>4549.000</td>\n",
       "      <td>11067.500</td>\n",
       "      <td>23836.250</td>\n",
       "    </tr>\n",
       "    <tr>\n",
       "      <th>Total_Revolving_Bal</th>\n",
       "      <td>10127.0</td>\n",
       "      <td>1162.814061</td>\n",
       "      <td>814.987335</td>\n",
       "      <td>0.0</td>\n",
       "      <td>359.000</td>\n",
       "      <td>1276.000</td>\n",
       "      <td>1784.000</td>\n",
       "      <td>2517.000</td>\n",
       "    </tr>\n",
       "    <tr>\n",
       "      <th>Avg_Open_To_Buy</th>\n",
       "      <td>10127.0</td>\n",
       "      <td>6720.676247</td>\n",
       "      <td>7223.542192</td>\n",
       "      <td>3.0</td>\n",
       "      <td>1324.500</td>\n",
       "      <td>3474.000</td>\n",
       "      <td>9859.000</td>\n",
       "      <td>22660.750</td>\n",
       "    </tr>\n",
       "    <tr>\n",
       "      <th>Total_Amt_Chng_Q4_Q1</th>\n",
       "      <td>10127.0</td>\n",
       "      <td>0.759941</td>\n",
       "      <td>0.219207</td>\n",
       "      <td>0.0</td>\n",
       "      <td>0.631</td>\n",
       "      <td>0.736</td>\n",
       "      <td>0.859</td>\n",
       "      <td>3.397</td>\n",
       "    </tr>\n",
       "    <tr>\n",
       "      <th>Total_Trans_Amt</th>\n",
       "      <td>10127.0</td>\n",
       "      <td>3948.349561</td>\n",
       "      <td>2161.970455</td>\n",
       "      <td>510.0</td>\n",
       "      <td>2155.500</td>\n",
       "      <td>3899.000</td>\n",
       "      <td>4741.000</td>\n",
       "      <td>8619.250</td>\n",
       "    </tr>\n",
       "    <tr>\n",
       "      <th>Total_Trans_Ct</th>\n",
       "      <td>10127.0</td>\n",
       "      <td>64.858695</td>\n",
       "      <td>23.472570</td>\n",
       "      <td>10.0</td>\n",
       "      <td>45.000</td>\n",
       "      <td>67.000</td>\n",
       "      <td>81.000</td>\n",
       "      <td>139.000</td>\n",
       "    </tr>\n",
       "    <tr>\n",
       "      <th>Total_Ct_Chng_Q4_Q1</th>\n",
       "      <td>10127.0</td>\n",
       "      <td>0.712222</td>\n",
       "      <td>0.238086</td>\n",
       "      <td>0.0</td>\n",
       "      <td>0.582</td>\n",
       "      <td>0.702</td>\n",
       "      <td>0.818</td>\n",
       "      <td>3.714</td>\n",
       "    </tr>\n",
       "    <tr>\n",
       "      <th>Avg_Utilization_Ratio</th>\n",
       "      <td>10127.0</td>\n",
       "      <td>0.274894</td>\n",
       "      <td>0.275691</td>\n",
       "      <td>0.0</td>\n",
       "      <td>0.023</td>\n",
       "      <td>0.176</td>\n",
       "      <td>0.503</td>\n",
       "      <td>0.999</td>\n",
       "    </tr>\n",
       "  </tbody>\n",
       "</table>\n",
       "</div>"
      ],
      "text/plain": [
       "                            count         mean          std     min       25%  \\\n",
       "Customer_Age              10127.0    46.325960     8.016814    26.0    41.000   \n",
       "Dependent_count           10127.0     2.346203     1.298908     0.0     1.000   \n",
       "Months_on_book            10127.0    35.928409     7.986416    13.0    31.000   \n",
       "Total_Relationship_Count  10127.0     3.812580     1.554408     1.0     3.000   \n",
       "Months_Inactive_12_mon    10127.0     2.341167     1.010622     0.0     2.000   \n",
       "Contacts_Count_12_mon     10127.0     2.455317     1.106225     0.0     2.000   \n",
       "Credit_Limit              10127.0  7882.309381  7217.091225  1438.3  2555.000   \n",
       "Total_Revolving_Bal       10127.0  1162.814061   814.987335     0.0   359.000   \n",
       "Avg_Open_To_Buy           10127.0  6720.676247  7223.542192     3.0  1324.500   \n",
       "Total_Amt_Chng_Q4_Q1      10127.0     0.759941     0.219207     0.0     0.631   \n",
       "Total_Trans_Amt           10127.0  3948.349561  2161.970455   510.0  2155.500   \n",
       "Total_Trans_Ct            10127.0    64.858695    23.472570    10.0    45.000   \n",
       "Total_Ct_Chng_Q4_Q1       10127.0     0.712222     0.238086     0.0     0.582   \n",
       "Avg_Utilization_Ratio     10127.0     0.274894     0.275691     0.0     0.023   \n",
       "\n",
       "                               50%        75%        max  \n",
       "Customer_Age                46.000     52.000     73.000  \n",
       "Dependent_count              2.000      3.000      5.000  \n",
       "Months_on_book              36.000     40.000     56.000  \n",
       "Total_Relationship_Count     4.000      5.000      6.000  \n",
       "Months_Inactive_12_mon       2.000      3.000      6.000  \n",
       "Contacts_Count_12_mon        2.000      3.000      6.000  \n",
       "Credit_Limit              4549.000  11067.500  23836.250  \n",
       "Total_Revolving_Bal       1276.000   1784.000   2517.000  \n",
       "Avg_Open_To_Buy           3474.000   9859.000  22660.750  \n",
       "Total_Amt_Chng_Q4_Q1         0.736      0.859      3.397  \n",
       "Total_Trans_Amt           3899.000   4741.000   8619.250  \n",
       "Total_Trans_Ct              67.000     81.000    139.000  \n",
       "Total_Ct_Chng_Q4_Q1          0.702      0.818      3.714  \n",
       "Avg_Utilization_Ratio        0.176      0.503      0.999  "
      ]
     },
     "execution_count": 12,
     "metadata": {},
     "output_type": "execute_result"
    }
   ],
   "source": [
    "# checking stats\n",
    "df.describe().T"
   ]
  },
  {
   "cell_type": "markdown",
   "id": "333764f9-9c4f-450c-afc1-6cfc1be3a226",
   "metadata": {},
   "source": [
    "# EDA"
   ]
  },
  {
   "cell_type": "code",
   "execution_count": 13,
   "id": "ee390f68-bbc0-4df2-8540-2acf9eef3c58",
   "metadata": {},
   "outputs": [
    {
     "data": {
      "text/plain": [
       "Existing Customer    83.934038\n",
       "Attrited Customer    16.065962\n",
       "Name: Attrition_Flag, dtype: float64"
      ]
     },
     "execution_count": 13,
     "metadata": {},
     "output_type": "execute_result"
    }
   ],
   "source": [
    "#checking for class imbalance\n",
    "df['Attrition_Flag'].value_counts(normalize=True)*100"
   ]
  },
  {
   "cell_type": "markdown",
   "id": "5cba7a6f-7614-4315-9ea8-34c40f34a186",
   "metadata": {},
   "source": [
    "There is only 16% of churned customer data, there is clearly class imbalance with Existing customer being the major element."
   ]
  },
  {
   "cell_type": "code",
   "execution_count": 16,
   "id": "42613314-a16a-40e8-958e-8553cd7f0eea",
   "metadata": {},
   "outputs": [],
   "source": [
    "# mapping the target column data to 0 and 1 binary values\n",
    "df['Attrition_Flag']=df['Attrition_Flag'].map({'Existing Customer':0,'Attrited Customer':1})"
   ]
  },
  {
   "cell_type": "code",
   "execution_count": 22,
   "id": "cae4f2a8-9166-46d5-9b4e-82296db76083",
   "metadata": {},
   "outputs": [
    {
     "data": {
      "image/png": "[encoded data removed]",
      "text/plain": [
       "<Figure size 1500x600 with 1 Axes>"
      ]
     },
     "metadata": {
      "needs_background": "light"
     },
     "output_type": "display_data"
    }
   ],
   "source": [
    "# checking correlation with target column\n",
    "plt.figure(figsize=(15,6),dpi=100)\n",
    "pd.get_dummies(df,drop_first=True).corr()['Attrition_Flag'].sort_values()[:-1].plot(kind='bar',color = 'black')\n",
    "plt.title('correlation with target column');"
   ]
  },
  {
   "cell_type": "markdown",
   "id": "9a18d66d-077e-4738-9548-f766d2ad62b9",
   "metadata": {},
   "source": [
    "Contacts_Count_12_mon, Months_Inactive_12_mon are highly positively correlated whereas Total_Trans_Ct, Total_Ct_Chng_Q4_Q1 are highly negatively correlated."
   ]
  },
  {
   "cell_type": "code",
   "execution_count": 30,
   "id": "96c12fc4-31a9-4dd6-8751-e9185d0d3bcf",
   "metadata": {},
   "outputs": [
    {
     "data": {
      "image/png": "[encoded data removed]",
      "text/plain": [
       "<Figure size 800x500 with 1 Axes>"
      ]
     },
     "metadata": {
      "needs_background": "light"
     },
     "output_type": "display_data"
    }
   ],
   "source": [
    "plt.figure(figsize=(8,5),dpi=100)\n",
    "sns.countplot(data=df,x='Gender',hue='Attrition_Flag',palette='viridis')\n",
    "plt.title('Churned based on gender');"
   ]
  },
  {
   "cell_type": "markdown",
   "id": "39ebd15b-fe03-45d0-a67a-c690de6f41b3",
   "metadata": {},
   "source": [
    "Female customers have churned more than male customers."
   ]
  },
  {
   "cell_type": "code",
   "execution_count": 33,
   "id": "b9e94611-8101-4177-b0b3-aaa69501f949",
   "metadata": {},
   "outputs": [
    {
     "data": {
      "image/png": "[encoded data removed]",
      "text/plain": [
       "<Figure size 800x500 with 1 Axes>"
      ]
     },
     "metadata": {
      "needs_background": "light"
     },
     "output_type": "display_data"
    }
   ],
   "source": [
    "plt.figure(figsize=(8,5),dpi=100)\n",
    "sns.histplot(data=df,x='Customer_Age',hue='Attrition_Flag',multiple='stack',palette='viridis')\n",
    "plt.title('Distribution of age colored by churn');"
   ]
  },
  {
   "cell_type": "markdown",
   "id": "6f5f055b-00f9-47af-880d-002d13cfb298",
   "metadata": {},
   "source": [
    "Customers who are aged between 40 and 50 have churned more when compared to other ages."
   ]
  },
  {
   "cell_type": "code",
   "execution_count": 39,
   "id": "57e2fa27-8544-4413-85ea-7f46e6151c5d",
   "metadata": {},
   "outputs": [
    {
     "data": {
      "text/plain": [
       "<matplotlib.legend.Legend at 0x26fd7e8b520>"
      ]
     },
     "execution_count": 39,
     "metadata": {},
     "output_type": "execute_result"
    },
    {
     "data": {
      "image/png": "[encoded data removed]",
      "text/plain": [
       "<Figure size 1200x600 with 1 Axes>"
      ]
     },
     "metadata": {
      "needs_background": "light"
     },
     "output_type": "display_data"
    }
   ],
   "source": [
    "# plotting violin plot\n",
    "plt.figure(figsize=(12,6),dpi=100)\n",
    "sns.violinplot(data=df,x='Income_Category',y='Credit_Limit',hue='Attrition_Flag',split=True,palette='viridis')\n",
    "plt.title('checking credit limit for various income category')\n",
    "plt.legend(loc=(1,.9))"
   ]
  },
  {
   "cell_type": "markdown",
   "id": "6104a0bb-1ef0-4b03-bdb9-8c6bbc6e07eb",
   "metadata": {},
   "source": [
    "Most of the income categories have the higher distribution of churned customers having 5000 or less credit limit."
   ]
  },
  {
   "cell_type": "code",
   "execution_count": 41,
   "id": "4fb9cea5-0b3a-426e-963e-87e999b000d6",
   "metadata": {},
   "outputs": [
    {
     "data": {
      "image/png": "[encoded data removed]",
      "text/plain": [
       "<Figure size 1200x600 with 1 Axes>"
      ]
     },
     "metadata": {
      "needs_background": "light"
     },
     "output_type": "display_data"
    }
   ],
   "source": [
    "#plotting count plot for various card category\n",
    "plt.figure(figsize=(12,6),dpi=100)\n",
    "sns.countplot(data=df,x='Card_Category',hue='Attrition_Flag',palette='viridis')\n",
    "plt.title('checking attrition flag for various card category');"
   ]
  },
  {
   "cell_type": "markdown",
   "id": "885a7610-f85d-4daf-a751-48755bbdf7e5",
   "metadata": {},
   "source": [
    "Highest churned customers fall under the blue card category."
   ]
  },
  {
   "cell_type": "code",
   "execution_count": 44,
   "id": "881127fb-47a7-476b-90d7-fb8a9060d29d",
   "metadata": {},
   "outputs": [
    {
     "data": {
      "image/png": "[encoded data removed]",
      "text/plain": [
       "<Figure size 1200x600 with 1 Axes>"
      ]
     },
     "metadata": {
      "needs_background": "light"
     },
     "output_type": "display_data"
    }
   ],
   "source": [
    "#plotting count plot for various card category\n",
    "plt.figure(figsize=(12,6),dpi=100)\n",
    "sns.countplot(data=df,x='Education_Level',hue='Attrition_Flag',palette='viridis')\n",
    "plt.xticks(rotation = 60)\n",
    "plt.title('checking attrition flag for various education level');"
   ]
  },
  {
   "cell_type": "markdown",
   "id": "89c703e0-14c9-4776-afd2-f449299e131d",
   "metadata": {},
   "source": [
    "Top two highest churned customers are from Graduate and High School category."
   ]
  },
  {
   "cell_type": "markdown",
   "id": "0647c7ea-2f05-4b98-9eea-000932e39dfb",
   "metadata": {},
   "source": [
    "# Feature Engineering"
   ]
  },
  {
   "cell_type": "code",
   "execution_count": 45,
   "id": "e899ffd6-c5fe-4ced-9616-86dc2504a000",
   "metadata": {},
   "outputs": [
    {
     "data": {
      "text/html": [
       "<div>\n",
       "<style scoped>\n",
       "    .dataframe tbody tr th:only-of-type {\n",
       "        vertical-align: middle;\n",
       "    }\n",
       "\n",
       "    .dataframe tbody tr th {\n",
       "        vertical-align: top;\n",
       "    }\n",
       "\n",
       "    .dataframe thead th {\n",
       "        text-align: right;\n",
       "    }\n",
       "</style>\n",
       "<table border=\"1\" class=\"dataframe\">\n",
       "  <thead>\n",
       "    <tr style=\"text-align: right;\">\n",
       "      <th></th>\n",
       "      <th>Attrition_Flag</th>\n",
       "      <th>Customer_Age</th>\n",
       "      <th>Dependent_count</th>\n",
       "      <th>Months_on_book</th>\n",
       "      <th>Total_Relationship_Count</th>\n",
       "      <th>Months_Inactive_12_mon</th>\n",
       "      <th>Contacts_Count_12_mon</th>\n",
       "      <th>Credit_Limit</th>\n",
       "      <th>Total_Revolving_Bal</th>\n",
       "      <th>Avg_Open_To_Buy</th>\n",
       "      <th>...</th>\n",
       "      <th>Marital_Status_Single</th>\n",
       "      <th>Marital_Status_Unknown</th>\n",
       "      <th>Income_Category_$40K - $60K</th>\n",
       "      <th>Income_Category_$60K - $80K</th>\n",
       "      <th>Income_Category_$80K - $120K</th>\n",
       "      <th>Income_Category_Less than $40K</th>\n",
       "      <th>Income_Category_Unknown</th>\n",
       "      <th>Card_Category_Gold</th>\n",
       "      <th>Card_Category_Platinum</th>\n",
       "      <th>Card_Category_Silver</th>\n",
       "    </tr>\n",
       "  </thead>\n",
       "  <tbody>\n",
       "    <tr>\n",
       "      <th>0</th>\n",
       "      <td>0</td>\n",
       "      <td>45</td>\n",
       "      <td>3</td>\n",
       "      <td>39</td>\n",
       "      <td>5</td>\n",
       "      <td>1</td>\n",
       "      <td>3</td>\n",
       "      <td>12691.0</td>\n",
       "      <td>777</td>\n",
       "      <td>11914.0</td>\n",
       "      <td>...</td>\n",
       "      <td>0</td>\n",
       "      <td>0</td>\n",
       "      <td>0</td>\n",
       "      <td>1</td>\n",
       "      <td>0</td>\n",
       "      <td>0</td>\n",
       "      <td>0</td>\n",
       "      <td>0</td>\n",
       "      <td>0</td>\n",
       "      <td>0</td>\n",
       "    </tr>\n",
       "    <tr>\n",
       "      <th>1</th>\n",
       "      <td>0</td>\n",
       "      <td>49</td>\n",
       "      <td>5</td>\n",
       "      <td>44</td>\n",
       "      <td>6</td>\n",
       "      <td>1</td>\n",
       "      <td>2</td>\n",
       "      <td>8256.0</td>\n",
       "      <td>864</td>\n",
       "      <td>7392.0</td>\n",
       "      <td>...</td>\n",
       "      <td>1</td>\n",
       "      <td>0</td>\n",
       "      <td>0</td>\n",
       "      <td>0</td>\n",
       "      <td>0</td>\n",
       "      <td>1</td>\n",
       "      <td>0</td>\n",
       "      <td>0</td>\n",
       "      <td>0</td>\n",
       "      <td>0</td>\n",
       "    </tr>\n",
       "    <tr>\n",
       "      <th>2</th>\n",
       "      <td>0</td>\n",
       "      <td>51</td>\n",
       "      <td>3</td>\n",
       "      <td>36</td>\n",
       "      <td>4</td>\n",
       "      <td>1</td>\n",
       "      <td>0</td>\n",
       "      <td>3418.0</td>\n",
       "      <td>0</td>\n",
       "      <td>3418.0</td>\n",
       "      <td>...</td>\n",
       "      <td>0</td>\n",
       "      <td>0</td>\n",
       "      <td>0</td>\n",
       "      <td>0</td>\n",
       "      <td>1</td>\n",
       "      <td>0</td>\n",
       "      <td>0</td>\n",
       "      <td>0</td>\n",
       "      <td>0</td>\n",
       "      <td>0</td>\n",
       "    </tr>\n",
       "    <tr>\n",
       "      <th>3</th>\n",
       "      <td>0</td>\n",
       "      <td>40</td>\n",
       "      <td>4</td>\n",
       "      <td>34</td>\n",
       "      <td>3</td>\n",
       "      <td>4</td>\n",
       "      <td>1</td>\n",
       "      <td>3313.0</td>\n",
       "      <td>2517</td>\n",
       "      <td>796.0</td>\n",
       "      <td>...</td>\n",
       "      <td>0</td>\n",
       "      <td>1</td>\n",
       "      <td>0</td>\n",
       "      <td>0</td>\n",
       "      <td>0</td>\n",
       "      <td>1</td>\n",
       "      <td>0</td>\n",
       "      <td>0</td>\n",
       "      <td>0</td>\n",
       "      <td>0</td>\n",
       "    </tr>\n",
       "    <tr>\n",
       "      <th>4</th>\n",
       "      <td>0</td>\n",
       "      <td>40</td>\n",
       "      <td>3</td>\n",
       "      <td>21</td>\n",
       "      <td>5</td>\n",
       "      <td>1</td>\n",
       "      <td>0</td>\n",
       "      <td>4716.0</td>\n",
       "      <td>0</td>\n",
       "      <td>4716.0</td>\n",
       "      <td>...</td>\n",
       "      <td>0</td>\n",
       "      <td>0</td>\n",
       "      <td>0</td>\n",
       "      <td>1</td>\n",
       "      <td>0</td>\n",
       "      <td>0</td>\n",
       "      <td>0</td>\n",
       "      <td>0</td>\n",
       "      <td>0</td>\n",
       "      <td>0</td>\n",
       "    </tr>\n",
       "  </tbody>\n",
       "</table>\n",
       "<p>5 rows × 33 columns</p>\n",
       "</div>"
      ],
      "text/plain": [
       "   Attrition_Flag  Customer_Age  Dependent_count  Months_on_book  \\\n",
       "0               0            45                3              39   \n",
       "1               0            49                5              44   \n",
       "2               0            51                3              36   \n",
       "3               0            40                4              34   \n",
       "4               0            40                3              21   \n",
       "\n",
       "   Total_Relationship_Count  Months_Inactive_12_mon  Contacts_Count_12_mon  \\\n",
       "0                         5                       1                      3   \n",
       "1                         6                       1                      2   \n",
       "2                         4                       1                      0   \n",
       "3                         3                       4                      1   \n",
       "4                         5                       1                      0   \n",
       "\n",
       "   Credit_Limit  Total_Revolving_Bal  Avg_Open_To_Buy  ...  \\\n",
       "0       12691.0                  777          11914.0  ...   \n",
       "1        8256.0                  864           7392.0  ...   \n",
       "2        3418.0                    0           3418.0  ...   \n",
       "3        3313.0                 2517            796.0  ...   \n",
       "4        4716.0                    0           4716.0  ...   \n",
       "\n",
       "   Marital_Status_Single  Marital_Status_Unknown  Income_Category_$40K - $60K  \\\n",
       "0                      0                       0                            0   \n",
       "1                      1                       0                            0   \n",
       "2                      0                       0                            0   \n",
       "3                      0                       1                            0   \n",
       "4                      0                       0                            0   \n",
       "\n",
       "   Income_Category_$60K - $80K  Income_Category_$80K - $120K  \\\n",
       "0                            1                             0   \n",
       "1                            0                             0   \n",
       "2                            0                             1   \n",
       "3                            0                             0   \n",
       "4                            1                             0   \n",
       "\n",
       "   Income_Category_Less than $40K  Income_Category_Unknown  \\\n",
       "0                               0                        0   \n",
       "1                               1                        0   \n",
       "2                               0                        0   \n",
       "3                               1                        0   \n",
       "4                               0                        0   \n",
       "\n",
       "   Card_Category_Gold  Card_Category_Platinum  Card_Category_Silver  \n",
       "0                   0                       0                     0  \n",
       "1                   0                       0                     0  \n",
       "2                   0                       0                     0  \n",
       "3                   0                       0                     0  \n",
       "4                   0                       0                     0  \n",
       "\n",
       "[5 rows x 33 columns]"
      ]
     },
     "execution_count": 45,
     "metadata": {},
     "output_type": "execute_result"
    }
   ],
   "source": [
    "# converting categorical variables to dummy variables\n",
    "df = pd.get_dummies(df,drop_first=True)\n",
    "df.head()"
   ]
  },
  {
   "cell_type": "markdown",
   "id": "6179953d-9f86-473e-8b4d-9b2530b255de",
   "metadata": {},
   "source": [
    "# Creating X,y and doing train - test split"
   ]
  },
  {
   "cell_type": "code",
   "execution_count": 46,
   "id": "9a0100a9-9b08-464c-a15d-81908eac918c",
   "metadata": {},
   "outputs": [],
   "source": [
    "X = df.drop('Attrition_Flag',axis=1)\n",
    "y = df['Attrition_Flag']"
   ]
  },
  {
   "cell_type": "code",
   "execution_count": 49,
   "id": "1f0a5556-613b-434c-b921-6c472685332c",
   "metadata": {},
   "outputs": [],
   "source": [
    "X_train, X_test, y_train, y_test = train_test_split(X, y, test_size=0.25, random_state=42)"
   ]
  },
  {
   "cell_type": "markdown",
   "id": "327676fd-1920-41bb-8dad-546acaee0fd1",
   "metadata": {},
   "source": [
    "Scaling the data using standard scaler"
   ]
  },
  {
   "cell_type": "code",
   "execution_count": 50,
   "id": "fe1c0804-701e-45a2-b3c0-bcb34f440998",
   "metadata": {},
   "outputs": [],
   "source": [
    "# instantiating standard scaler\n",
    "scale = StandardScaler()"
   ]
  },
  {
   "cell_type": "code",
   "execution_count": 51,
   "id": "b0a17477-49e8-4d33-b9a2-c8079aaa8c4c",
   "metadata": {},
   "outputs": [],
   "source": [
    "X_train_scaled = scale.fit_transform(X_train)\n",
    "X_test_scaled = scale.transform(X_test)"
   ]
  },
  {
   "cell_type": "markdown",
   "id": "efc34d99-c06b-4e4f-9e11-7994792c515b",
   "metadata": {},
   "source": [
    "# Model building"
   ]
  },
  {
   "cell_type": "markdown",
   "id": "e323892d-3d53-4c2b-b59c-813df2a7bd29",
   "metadata": {},
   "source": [
    "Choosing xgb classifier"
   ]
  },
  {
   "cell_type": "code",
   "execution_count": 52,
   "id": "204c7f22-c833-4ed0-b767-932acf2ff6b4",
   "metadata": {},
   "outputs": [],
   "source": [
    "xgb_model = XGBClassifier(objective='binary:logistic')"
   ]
  },
  {
   "cell_type": "code",
   "execution_count": 54,
   "id": "e051c39c-280d-4f26-8aae-96e756b97647",
   "metadata": {},
   "outputs": [],
   "source": [
    "# selecting hyperparameters for grid search CV\n",
    "params = {'n_estimators':[90,110,120],'max_depth':[4,6,9,11],'learning_rate':[.3,.6,.8],'min_child_weight':[3,5,8],'subsample':[.75]}"
   ]
  },
  {
   "cell_type": "code",
   "execution_count": 55,
   "id": "d1f17348-2a49-4169-a179-169416cd3adf",
   "metadata": {},
   "outputs": [],
   "source": [
    "# selecting scoring metrics\n",
    "scoring = ['accuracy','precision','recall','f1']"
   ]
  },
  {
   "cell_type": "code",
   "execution_count": 56,
   "id": "f63cc5c3-7569-4867-99cc-0dd9ab83931f",
   "metadata": {},
   "outputs": [],
   "source": [
    "#instantiating grid search CV and refitting model to recall\n",
    "grid_model_xgb = GridSearchCV(xgb_model,param_grid=params,cv=5,scoring=scoring,refit='recall')"
   ]
  },
  {
   "cell_type": "code",
   "execution_count": 59,
   "id": "b07d34cf-6483-4711-b9f0-01d2ffdc95e6",
   "metadata": {},
   "outputs": [
    {
     "name": "stdout",
     "output_type": "stream",
     "text": [
      "Wall time: 2min 23s\n"
     ]
    },
    {
     "data": {
      "text/plain": [
       "GridSearchCV(cv=5,\n",
       "             estimator=XGBClassifier(base_score=None, booster=None,\n",
       "                                     callbacks=None, colsample_bylevel=None,\n",
       "                                     colsample_bynode=None,\n",
       "                                     colsample_bytree=None,\n",
       "                                     early_stopping_rounds=None,\n",
       "                                     enable_categorical=False, eval_metric=None,\n",
       "                                     feature_types=None, gamma=None,\n",
       "                                     gpu_id=None, grow_policy=None,\n",
       "                                     importance_type=None,\n",
       "                                     interaction_constraints=None,\n",
       "                                     learning_rate=None,...\n",
       "                                     max_leaves=None, min_child_weight=None,\n",
       "                                     missing=nan, monotone_constraints=None,\n",
       "                                     n_estimators=100, n_jobs=None,\n",
       "                                     num_parallel_tree=None, predictor=None,\n",
       "                                     random_state=None, ...),\n",
       "             param_grid={'learning_rate': [0.3, 0.6, 0.8],\n",
       "                         'max_depth': [4, 6, 9, 11],\n",
       "                         'min_child_weight': [3, 5, 8],\n",
       "                         'n_estimators': [90, 110, 120], 'subsample': [0.75]},\n",
       "             refit='recall', scoring=['accuracy', 'precision', 'recall', 'f1'])"
      ]
     },
     "execution_count": 59,
     "metadata": {},
     "output_type": "execute_result"
    }
   ],
   "source": [
    "%%time\n",
    "grid_model_xgb.fit(X_train_scaled,y_train)"
   ]
  },
  {
   "cell_type": "code",
   "execution_count": 60,
   "id": "9f2071d1-bbc8-4b8f-83e2-2125fe26cbb9",
   "metadata": {},
   "outputs": [
    {
     "data": {
      "text/plain": [
       "0.8923665169232878"
      ]
     },
     "execution_count": 60,
     "metadata": {},
     "output_type": "execute_result"
    }
   ],
   "source": [
    "# best score\n",
    "grid_model_xgb.best_score_"
   ]
  },
  {
   "cell_type": "code",
   "execution_count": 61,
   "id": "42261c7c-3b16-4cff-ac02-e77a23bf173d",
   "metadata": {},
   "outputs": [
    {
     "data": {
      "text/plain": [
       "{'learning_rate': 0.3,\n",
       " 'max_depth': 4,\n",
       " 'min_child_weight': 3,\n",
       " 'n_estimators': 90,\n",
       " 'subsample': 0.75}"
      ]
     },
     "execution_count": 61,
     "metadata": {},
     "output_type": "execute_result"
    }
   ],
   "source": [
    "grid_model_xgb.best_params_"
   ]
  },
  {
   "cell_type": "code",
   "execution_count": 62,
   "id": "a9f3e5bb-18be-472e-a35c-5646230a9634",
   "metadata": {},
   "outputs": [],
   "source": [
    "# final_model based on best parameters\n",
    "xgb_model_final = XGBClassifier(objective='binary:logistic',learning_rate = 0.3,max_depth = 4,min_child_weight = 3,n_estimators = 90, subsample = 0.75)"
   ]
  },
  {
   "cell_type": "code",
   "execution_count": 63,
   "id": "144c43e0-3828-4ce1-a6fb-6759fdc000ed",
   "metadata": {},
   "outputs": [
    {
     "data": {
      "text/plain": [
       "XGBClassifier(base_score=None, booster=None, callbacks=None,\n",
       "              colsample_bylevel=None, colsample_bynode=None,\n",
       "              colsample_bytree=None, early_stopping_rounds=None,\n",
       "              enable_categorical=False, eval_metric=None, feature_types=None,\n",
       "              gamma=None, gpu_id=None, grow_policy=None, importance_type=None,\n",
       "              interaction_constraints=None, learning_rate=0.3, max_bin=None,\n",
       "              max_cat_threshold=None, max_cat_to_onehot=None,\n",
       "              max_delta_step=None, max_depth=4, max_leaves=None,\n",
       "              min_child_weight=3, missing=nan, monotone_constraints=None,\n",
       "              n_estimators=90, n_jobs=None, num_parallel_tree=None,\n",
       "              predictor=None, random_state=None, ...)"
      ]
     },
     "execution_count": 63,
     "metadata": {},
     "output_type": "execute_result"
    }
   ],
   "source": [
    "#fitting the model to trained data\n",
    "xgb_model_final.fit(X_train_scaled,y_train)"
   ]
  },
  {
   "cell_type": "code",
   "execution_count": 64,
   "id": "50a2c885-cfe2-4d94-b5da-9d08b302dd6a",
   "metadata": {},
   "outputs": [],
   "source": [
    "y_pred = xgb_model_final.predict(X_test_scaled)"
   ]
  },
  {
   "cell_type": "markdown",
   "id": "79b4b0ab-d85e-4deb-b4e4-a9cd1ffe5dba",
   "metadata": {},
   "source": [
    "# Evaluating the model"
   ]
  },
  {
   "cell_type": "code",
   "execution_count": 65,
   "id": "53e155ce-7110-4fe3-9d58-8d3c8a5b1bc4",
   "metadata": {},
   "outputs": [
    {
     "data": {
      "text/plain": [
       "<sklearn.metrics._plot.confusion_matrix.ConfusionMatrixDisplay at 0x26fdb0fcfa0>"
      ]
     },
     "execution_count": 65,
     "metadata": {},
     "output_type": "execute_result"
    },
    {
     "data": {
      "image/png": "[encoded data removed]",
      "text/plain": [
       "<Figure size 432x288 with 2 Axes>"
      ]
     },
     "metadata": {
      "needs_background": "light"
     },
     "output_type": "display_data"
    }
   ],
   "source": [
    "#plot confusion matrix\n",
    "plot_confusion_matrix(grid_model_xgb,X_test_scaled,y_test)"
   ]
  },
  {
   "cell_type": "markdown",
   "id": "92b101ef-efdc-40eb-bf04-626f58dc220d",
   "metadata": {},
   "source": [
    "Only 34 false positives and 49 false negatives"
   ]
  },
  {
   "cell_type": "code",
   "execution_count": 66,
   "id": "bac98228-ce1a-46b3-8c38-1039a2a1dab4",
   "metadata": {},
   "outputs": [
    {
     "data": {
      "text/plain": [
       "<sklearn.metrics._plot.roc_curve.RocCurveDisplay at 0x26fdb0eb2b0>"
      ]
     },
     "execution_count": 66,
     "metadata": {},
     "output_type": "execute_result"
    },
    {
     "data": {
      "image/png": "[encoded data removed]",
      "text/plain": [
       "<Figure size 432x288 with 1 Axes>"
      ]
     },
     "metadata": {
      "needs_background": "light"
     },
     "output_type": "display_data"
    }
   ],
   "source": [
    "plot_roc_curve(grid_model_xgb,X_test_scaled,y_test)"
   ]
  },
  {
   "cell_type": "markdown",
   "id": "9ae01b52-4e3f-4398-beba-cd7338dca607",
   "metadata": {},
   "source": [
    "AUC is .99 which is good score"
   ]
  },
  {
   "cell_type": "code",
   "execution_count": 67,
   "id": "d3e3c371-d598-4fb9-919d-8621451de161",
   "metadata": {},
   "outputs": [
    {
     "data": {
      "text/plain": [
       "{'Accuracy': 0.967219589257504,\n",
       " 'F1_score': 0.8991494532199271,\n",
       " 'Recall': 0.883054892601432,\n",
       " 'Precision': 0.9158415841584159}"
      ]
     },
     "execution_count": 67,
     "metadata": {},
     "output_type": "execute_result"
    }
   ],
   "source": [
    "Scores = {'Accuracy':accuracy_score(y_test,y_pred),'F1_score':f1_score(y_test,y_pred),'Recall':recall_score(y_test,y_pred),'Precision':precision_score(y_test,y_pred)}\n",
    "Scores"
   ]
  },
  {
   "cell_type": "markdown",
   "id": "b616ff74-e444-45bc-ac27-0b24a87aad1f",
   "metadata": {},
   "source": [
    "# Summary"
   ]
  },
  {
   "cell_type": "markdown",
   "id": "de13f9bb-ee08-494e-85a9-83b326b76e47",
   "metadata": {},
   "source": [
    "## Model has performed well with XGB classifier with below scores\n",
    "* **Accuracy is .96**\n",
    "* **Precision is .91**\n",
    "* **Recall is .88**\n",
    "* **F1_score is .89**"
   ]
  },
  {
   "cell_type": "markdown",
   "id": "593ffa10-ef58-4aca-8fad-59f7f676ee00",
   "metadata": {},
   "source": [
    "**Thank you!**"
   ]
  },
  {
   "cell_type": "code",
   "execution_count": null,
   "id": "79906e08-cb94-4b73-8fe5-677da1577d72",
   "metadata": {},
   "outputs": [],
   "source": []
  }
 ],
 "metadata": {
  "kernelspec": {
   "display_name": "Python 3",
   "language": "python",
   "name": "python3"
  },
  "language_info": {
   "codemirror_mode": {
    "name": "ipython",
    "version": 3
   },
   "file_extension": ".py",
   "mimetype": "text/x-python",
   "name": "python",
   "nbconvert_exporter": "python",
   "pygments_lexer": "ipython3",
   "version": "3.8.8"
  }
 },
 "nbformat": 4,
 "nbformat_minor": 5
}
